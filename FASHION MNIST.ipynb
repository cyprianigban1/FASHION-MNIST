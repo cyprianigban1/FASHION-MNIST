{
 "cells": [
  {
   "cell_type": "markdown",
   "id": "be3ad448-c6e3-4177-ac27-3e20cc32175b",
   "metadata": {},
   "source": [
    "QUESTION 1: Convolutional Neural Network (CNN):\n",
    "Using Keras and classes in both Python and R, develop a CNN with six layers to classify the Fashion MNIST dataset"
   ]
  },
  {
   "cell_type": "code",
   "execution_count": null,
   "id": "bd25d491-739c-452a-bbf7-09807428bcd7",
   "metadata": {
    "execution": {
     "iopub.execute_input": "2025-01-14T18:17:19.519994Z",
     "iopub.status.busy": "2025-01-14T18:17:19.518100Z"
    }
   },
   "outputs": [
    {
     "name": "stdout",
     "output_type": "stream",
     "text": [
      "Model: \"sequential_3\"\n",
      "_________________________________________________________________\n",
      " Layer (type)                Output Shape              Param #   \n",
      "=================================================================\n",
      " conv2d_9 (Conv2D)           (None, 26, 26, 32)        320       \n",
      "                                                                 \n",
      " max_pooling2d_6 (MaxPooling  (None, 13, 13, 32)       0         \n",
      " 2D)                                                             \n",
      "                                                                 \n",
      " conv2d_10 (Conv2D)          (None, 11, 11, 64)        18496     \n",
      "                                                                 \n",
      " max_pooling2d_7 (MaxPooling  (None, 5, 5, 64)         0         \n",
      " 2D)                                                             \n",
      "                                                                 \n",
      " conv2d_11 (Conv2D)          (None, 3, 3, 64)          36928     \n",
      "                                                                 \n",
      " flatten_3 (Flatten)         (None, 576)               0         \n",
      "                                                                 \n",
      " dense_6 (Dense)             (None, 64)                36928     \n",
      "                                                                 \n",
      " dense_7 (Dense)             (None, 10)                650       \n",
      "                                                                 \n",
      "=================================================================\n",
      "Total params: 93,322\n",
      "Trainable params: 93,322\n",
      "Non-trainable params: 0\n",
      "_________________________________________________________________\n",
      "Epoch 1/10\n"
     ]
    },
    {
     "name": "stderr",
     "output_type": "stream",
     "text": [
      "2025-01-14 18:17:20.227613: W tensorflow/tsl/framework/cpu_allocator_impl.cc:83] Allocation of 150528000 exceeds 10% of free system memory.\n"
     ]
    },
    {
     "name": "stdout",
     "output_type": "stream",
     "text": [
      "750/750 [==============================] - 39s 51ms/step - loss: 0.5713 - accuracy: 0.7935 - val_loss: 0.4264 - val_accuracy: 0.8503\n",
      "Epoch 2/10\n",
      "750/750 [==============================] - 41s 55ms/step - loss: 0.3580 - accuracy: 0.8706 - val_loss: 0.3360 - val_accuracy: 0.8792\n",
      "Epoch 3/10\n",
      "750/750 [==============================] - 46s 61ms/step - loss: 0.3089 - accuracy: 0.8878 - val_loss: 0.3020 - val_accuracy: 0.8918\n",
      "Epoch 4/10\n",
      "750/750 [==============================] - 41s 54ms/step - loss: 0.2736 - accuracy: 0.9009 - val_loss: 0.2935 - val_accuracy: 0.8912\n",
      "Epoch 5/10\n",
      "750/750 [==============================] - 38s 50ms/step - loss: 0.2533 - accuracy: 0.9072 - val_loss: 0.2678 - val_accuracy: 0.8997\n",
      "Epoch 6/10\n",
      "750/750 [==============================] - 42s 56ms/step - loss: 0.2311 - accuracy: 0.9157 - val_loss: 0.2620 - val_accuracy: 0.9041\n",
      "Epoch 7/10\n",
      "750/750 [==============================] - 41s 54ms/step - loss: 0.2135 - accuracy: 0.9212 - val_loss: 0.2654 - val_accuracy: 0.9024\n",
      "Epoch 8/10\n",
      "750/750 [==============================] - 38s 51ms/step - loss: 0.1947 - accuracy: 0.9280 - val_loss: 0.2496 - val_accuracy: 0.9095\n",
      "Epoch 9/10\n",
      "750/750 [==============================] - 40s 53ms/step - loss: 0.1803 - accuracy: 0.9336 - val_loss: 0.2774 - val_accuracy: 0.8995\n",
      "Epoch 10/10\n",
      "561/750 [=====================>........] - ETA: 10s - loss: 0.1653 - accuracy: 0.9389"
     ]
    }
   ],
   "source": [
    "import tensorflow as tf\n",
    "from tensorflow.keras import layers, models\n",
    "from tensorflow.keras.datasets import fashion_mnist\n",
    "from tensorflow.keras.utils import to_categorical\n",
    "\n",
    "# Load and preprocess the Fashion MNIST dataset\n",
    "(x_train, y_train), (x_test, y_test) = fashion_mnist.load_data()\n",
    "x_train = x_train.reshape((-1, 28, 28, 1)).astype(\"float32\") / 255.0\n",
    "x_test = x_test.reshape((-1, 28, 28, 1)).astype(\"float32\") / 255.0\n",
    "y_train = to_categorical(y_train, 10)\n",
    "y_test = to_categorical(y_test, 10)\n",
    "\n",
    "# Build the CNN model\n",
    "model = models.Sequential([\n",
    "    layers.Conv2D(32, (3, 3), activation='relu', input_shape=(28, 28, 1)),\n",
    "    layers.MaxPooling2D((2, 2)),\n",
    "    layers.Conv2D(64, (3, 3), activation='relu'),\n",
    "    layers.MaxPooling2D((2, 2)),\n",
    "    layers.Conv2D(64, (3, 3), activation='relu'),\n",
    "    layers.Flatten(),\n",
    "    layers.Dense(64, activation='relu'),\n",
    "    layers.Dense(10, activation='softmax')\n",
    "])\n",
    "\n",
    "# Compile the model\n",
    "model.compile(optimizer='adam',\n",
    "              loss='categorical_crossentropy',\n",
    "              metrics=['accuracy'])\n",
    "\n",
    "# Print the model summary\n",
    "model.summary()\n",
    "\n",
    "# Train the model\n",
    "history = model.fit(x_train, y_train, epochs=10, batch_size=64, validation_split=0.2)\n",
    "\n",
    "# Evaluate the model on the test set\n",
    "test_loss, test_acc = model.evaluate(x_test, y_test, verbose=2)\n",
    "print(f\"Test accuracy: {test_acc}\")\n",
    "\n",
    "# Save the model\n",
    "model.save(\"fashion_mnist_cnn.h5\")"
   ]
  },
  {
   "cell_type": "code",
   "execution_count": null,
   "id": "967b3e31-09d1-4ecd-bd89-20768681cb6d",
   "metadata": {},
   "outputs": [],
   "source": []
  },
  {
   "cell_type": "markdown",
   "id": "0aaf17d7-9f0a-4164-9050-4a52e6f98c42",
   "metadata": {},
   "source": [
    "QUESTION 2: Prediction:\n",
    "\n",
    "Make predictions for at least two images from the Fashion MNIST dataset."
   ]
  },
  {
   "cell_type": "code",
   "execution_count": null,
   "id": "8a8b218f-2653-470f-8a5e-ae7138fc096b",
   "metadata": {
    "execution": {
     "iopub.execute_input": "2025-01-14T18:08:47.722124Z",
     "iopub.status.busy": "2025-01-14T18:08:47.721756Z"
    }
   },
   "outputs": [
    {
     "name": "stdout",
     "output_type": "stream",
     "text": [
      "Model: \"sequential_2\"\n",
      "_________________________________________________________________\n",
      " Layer (type)                Output Shape              Param #   \n",
      "=================================================================\n",
      " conv2d_6 (Conv2D)           (None, 26, 26, 32)        320       \n",
      "                                                                 \n",
      " max_pooling2d_4 (MaxPooling  (None, 13, 13, 32)       0         \n",
      " 2D)                                                             \n",
      "                                                                 \n",
      " conv2d_7 (Conv2D)           (None, 11, 11, 64)        18496     \n",
      "                                                                 \n",
      " max_pooling2d_5 (MaxPooling  (None, 5, 5, 64)         0         \n",
      " 2D)                                                             \n",
      "                                                                 \n",
      " conv2d_8 (Conv2D)           (None, 3, 3, 64)          36928     \n",
      "                                                                 \n",
      " flatten_2 (Flatten)         (None, 576)               0         \n",
      "                                                                 \n",
      " dense_4 (Dense)             (None, 64)                36928     \n",
      "                                                                 \n",
      " dense_5 (Dense)             (None, 10)                650       \n",
      "                                                                 \n",
      "=================================================================\n",
      "Total params: 93,322\n",
      "Trainable params: 93,322\n",
      "Non-trainable params: 0\n",
      "_________________________________________________________________\n",
      "Epoch 1/10\n"
     ]
    },
    {
     "name": "stderr",
     "output_type": "stream",
     "text": [
      "2025-01-14 18:08:48.450842: W tensorflow/tsl/framework/cpu_allocator_impl.cc:83] Allocation of 150528000 exceeds 10% of free system memory.\n"
     ]
    },
    {
     "name": "stdout",
     "output_type": "stream",
     "text": [
      "750/750 [==============================] - 68s 89ms/step - loss: 0.5733 - accuracy: 0.7902 - val_loss: 0.4611 - val_accuracy: 0.8238\n",
      "Epoch 2/10\n",
      "750/750 [==============================] - 72s 96ms/step - loss: 0.3544 - accuracy: 0.8704 - val_loss: 0.3344 - val_accuracy: 0.8786\n",
      "Epoch 3/10\n",
      "127/750 [====>.........................] - ETA: 33s - loss: 0.3267 - accuracy: 0.8800"
     ]
    }
   ],
   "source": [
    "import tensorflow as tf\n",
    "from tensorflow.keras import layers, models\n",
    "from tensorflow.keras.datasets import fashion_mnist\n",
    "from tensorflow.keras.utils import to_categorical\n",
    "import numpy as np\n",
    "\n",
    "# Load and preprocess the Fashion MNIST dataset\n",
    "(x_train, y_train), (x_test, y_test) = fashion_mnist.load_data()\n",
    "x_train = x_train.reshape((-1, 28, 28, 1)).astype(\"float32\") / 255.0\n",
    "x_test = x_test.reshape((-1, 28, 28, 1)).astype(\"float32\") / 255.0\n",
    "y_train = to_categorical(y_train, 10)\n",
    "y_test = to_categorical(y_test, 10)\n",
    "\n",
    "# Build the CNN model\n",
    "model = models.Sequential([\n",
    "    layers.Conv2D(32, (3, 3), activation='relu', input_shape=(28, 28, 1)),\n",
    "    layers.MaxPooling2D((2, 2)),\n",
    "    layers.Conv2D(64, (3, 3), activation='relu'),\n",
    "    layers.MaxPooling2D((2, 2)),\n",
    "    layers.Conv2D(64, (3, 3), activation='relu'),\n",
    "    layers.Flatten(),\n",
    "    layers.Dense(64, activation='relu'),\n",
    "    layers.Dense(10, activation='softmax')\n",
    "])\n",
    "\n",
    "# Compile the model\n",
    "model.compile(optimizer='adam',\n",
    "              loss='categorical_crossentropy',\n",
    "              metrics=['accuracy'])\n",
    "\n",
    "# Print the model summary\n",
    "model.summary()\n",
    "\n",
    "# Train the model\n",
    "history = model.fit(x_train, y_train, epochs=10, batch_size=64, validation_split=0.2)\n",
    "\n",
    "# Evaluate the model on the test set\n",
    "test_loss, test_acc = model.evaluate(x_test, y_test, verbose=2)\n",
    "print(f\"Test accuracy: {test_acc}\")\n",
    "\n",
    "# Save the model\n",
    "model.save(\"fashion_mnist_cnn.h5\")\n",
    "\n",
    "# Make predictions for at least two images\n",
    "predictions = model.predict(x_test[:2])\n",
    "for i, prediction in enumerate(predictions):\n",
    "    predicted_label = np.argmax(prediction)\n",
    "    print(f\"Image {i+1}: Predicted label = {predicted_label}, True label = {np.argmax(y_test[i])}\")"
   ]
  },
  {
   "cell_type": "code",
   "execution_count": null,
   "id": "acd98876-5ca0-4e22-bf76-643079b3163f",
   "metadata": {},
   "outputs": [],
   "source": []
  }
 ],
 "metadata": {
  "kernelspec": {
   "display_name": "anaconda-2022.05-py39",
   "language": "python",
   "name": "conda-env-anaconda-2022.05-py39-py"
  },
  "language_info": {
   "codemirror_mode": {
    "name": "ipython",
    "version": 3
   },
   "file_extension": ".py",
   "mimetype": "text/x-python",
   "name": "python",
   "nbconvert_exporter": "python",
   "pygments_lexer": "ipython3",
   "version": "3.9.12"
  }
 },
 "nbformat": 4,
 "nbformat_minor": 5
}
